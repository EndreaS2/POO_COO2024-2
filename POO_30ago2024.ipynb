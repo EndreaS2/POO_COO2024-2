{
  "nbformat": 4,
  "nbformat_minor": 0,
  "metadata": {
    "colab": {
      "provenance": [],
      "authorship_tag": "ABX9TyN2f424EamRZhGAslc5EzHl",
      "include_colab_link": true
    },
    "kernelspec": {
      "name": "python3",
      "display_name": "Python 3"
    },
    "language_info": {
      "name": "python"
    }
  },
  "cells": [
    {
      "cell_type": "markdown",
      "metadata": {
        "id": "view-in-github",
        "colab_type": "text"
      },
      "source": [
        "<a href=\"https://colab.research.google.com/github/EndreaS2/POO_COO2024-2/blob/main/POO_30ago2024.ipynb\" target=\"_parent\"><img src=\"https://colab.research.google.com/assets/colab-badge.svg\" alt=\"Open In Colab\"/></a>"
      ]
    },
    {
      "cell_type": "markdown",
      "source": [
        "#EX01) Converter F para C\n",
        "OBS:\n",
        "Entrada: F\n",
        "Processamento: C = (5/9) (f-32)\n",
        "Saída: C"
      ],
      "metadata": {
        "id": "e2WYVYwFhscM"
      }
    },
    {
      "cell_type": "code",
      "source": [
        "F = float(input(\"Digite valor em Graus Farenheit: \"))\n",
        "C = (5/9)*(F-32)\n",
        "print(f\"O valor de {F} Graus Farenheit corresponde ao valor de {C} Graus Celsius\")"
      ],
      "metadata": {
        "id": "YUk5Cl1XfsJC",
        "outputId": "ef7c2be3-f52b-48de-fa7b-06b9abdbf95a",
        "colab": {
          "base_uri": "https://localhost:8080/"
        }
      },
      "execution_count": 2,
      "outputs": [
        {
          "output_type": "stream",
          "name": "stdout",
          "text": [
            "Digite valor em Graus Farenheit: 32\n",
            "O valor de 32.0 Graus Farenheit corresponde ao valor de 0.0 Graus Celsius\n"
          ]
        }
      ]
    },
    {
      "cell_type": "markdown",
      "source": [
        "#EX02) Converter Polegadas para mm\n",
        "Entrada: P\n",
        "Processamento: mm = P*25.4\n",
        "Saída: MM\n"
      ],
      "metadata": {
        "id": "7oJMFb7Cjqyj"
      }
    },
    {
      "cell_type": "code",
      "source": [
        "P = float(input(\"Digite valor em Polegadas: \"))\n",
        "MM = P*25.4\n",
        "print(f\"O valor de {P}pol corresponde ao valor de {MM} \")"
      ],
      "metadata": {
        "id": "lFXji09GkS7u",
        "outputId": "593d0a72-437c-4966-d27d-8d60dff5b077",
        "colab": {
          "base_uri": "https://localhost:8080/"
        }
      },
      "execution_count": 5,
      "outputs": [
        {
          "output_type": "stream",
          "name": "stdout",
          "text": [
            "Digite valor em Polegadas: 1\n",
            "O valor de 1.0pol corresponde ao valor de 25.4 \n"
          ]
        }
      ]
    },
    {
      "cell_type": "markdown",
      "source": [
        "#EX03) Converter mm para Polegadas\n",
        "Entrada: MM\n",
        "Processamento: P= mm/25.4\n",
        "Ssída: P"
      ],
      "metadata": {
        "id": "MxWHyelElYO2"
      }
    },
    {
      "cell_type": "code",
      "source": [
        "MM = float(input(\"dDigite a medida em MM: \"))\n",
        "P = MM/25.4\n",
        "print(f\"{MM} milimetros é igual a {P:.2f} polegadas. \")"
      ],
      "metadata": {
        "id": "o1paYRpZnJra",
        "outputId": "b56feaa8-def9-4bd8-974f-a9a139cc4b6d",
        "colab": {
          "base_uri": "https://localhost:8080/"
        }
      },
      "execution_count": 6,
      "outputs": [
        {
          "output_type": "stream",
          "name": "stdout",
          "text": [
            "dDigite a medida em MM: 25.4\n",
            "25.4 milimetros é igual a 1.00 polegadas. \n"
          ]
        }
      ]
    },
    {
      "cell_type": "markdown",
      "source": [
        "#PROGRAMA VERIFICADOR DE IDADE PARA VOTAÇÃO"
      ],
      "metadata": {
        "id": "nzm-GcjRo_cL"
      }
    },
    {
      "cell_type": "code",
      "source": [
        "#entrada: Idade\n",
        "#SAÍDA: \"Pode Votar ou Não\"\n",
        "\n",
        "idade = int(input(\"Digite sua idade: \"))\n",
        "if idade >= 18:\n",
        "  print(\"Pode Votar\")\n",
        "else:\n",
        "  print(\"Não Pode Votar\")"
      ],
      "metadata": {
        "id": "mGJAt8KipHL7",
        "outputId": "1f2fbeed-1720-4e97-a9c1-ee5c4c8befa8",
        "colab": {
          "base_uri": "https://localhost:8080/"
        }
      },
      "execution_count": 8,
      "outputs": [
        {
          "output_type": "stream",
          "name": "stdout",
          "text": [
            "Digite sua idade: 69\n",
            "Pode Votar\n"
          ]
        }
      ]
    },
    {
      "cell_type": "markdown",
      "source": [
        "#EX05) Receba o Raio de uma esfera e calcule para exibir o Volume\n",
        "ENTRADA: R\n",
        "PROCESSAMENTO: V= (4/3.0)*PI/(r*r*r)\n",
        "SAÍDA: V"
      ],
      "metadata": {
        "id": "2h8EItdQxsE0"
      }
    },
    {
      "cell_type": "code",
      "source": [
        "import math\n",
        "\n",
        "raio = float(input(\"Digite o raio da esfera em unidades de comprimento: \"))\n",
        "volume = (4/3) * math.pi * (raio ** 3)\n",
        "print(f\"O Volume da esfera com raio {raio} é {volume:.2f} unidades cúbicas.\")"
      ],
      "metadata": {
        "id": "7rgfnWa_ygzt",
        "outputId": "514ed013-0c2d-4a6a-b1c1-80b0fa7c6221",
        "colab": {
          "base_uri": "https://localhost:8080/"
        }
      },
      "execution_count": 10,
      "outputs": [
        {
          "output_type": "stream",
          "name": "stdout",
          "text": [
            "Digite o raio da esfera em unidades de comprimento: 250\n",
            "O Volume da esfera com raio 250.0 é 65449846.95 unidades cúbicas.\n"
          ]
        }
      ]
    }
  ]
}